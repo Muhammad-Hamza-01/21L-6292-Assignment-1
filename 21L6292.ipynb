{
 "cells": [
  {
   "cell_type": "markdown",
   "metadata": {},
   "source": [
    "Question1:"
   ]
  },
  {
   "cell_type": "code",
   "execution_count": null,
   "metadata": {},
   "outputs": [],
   "source": [
    "test=[[1,2,3],\n",
    "      [2,3,1],\n",
    "      [3,2,1]]\n",
    "test2=[[1,2,3,4],\n",
    "       [2,3,1,3],\n",
    "       [3,1,2,3],\n",
    "       [4,4,4,4]]\n",
    "test3 =[['a','b','c'],\n",
    "        ['b','c','a'],\n",
    "        ['c','a','b']]\n",
    "\n",
    "        def check_input(list);\n",
    "        duplicate=0;\n",
    "        out_of_range;\n",
    "\n",
    "        n=len(list)\n",
    "\n",
    "        for x in range(0,n):\n",
    "            for y in range(0,n-1):\n",
    "                if(list[x][y]==list[x][y+1]):\n",
    "                    duplicate=1;\n",
    "\n",
    "            for x in range(0,n-1):\n",
    "            for y in range(0,n):\n",
    "                if(list[y][x]==list[y][x+1]):\n",
    "                    duplicate=1;\n",
    "\n",
    "                    if(type(list[0][0] != str)):\n",
    "                        for a in range(0,n):\n",
    "                            for b in range(0,n):\n",
    "                                if(list[x][y]>n):\n",
    "                                    out_of_range=1;\n",
    "\n",
    "\n",
    "    for a in range(0,n):\n",
    "    for b in range(0,n):\n",
    "      if((type(list[a][b])) == str):\n",
    "          return False\n",
    "\n",
    "\n",
    "  if(duplicate == 1 or out_of_range==1):\n",
    "    return False\n",
    "  else:\n",
    "    return True\n",
    "\n",
    "\n",
    "print(check_input(test1)) \n",
    "print(check_input(test2))\n",
    "print(check_input(test3)) \n",
    "\n",
    "          \n",
    "\n",
    "                                    \n",
    "\n",
    "                                    \n",
    "                                    \n",
    "\n",
    "\n"
   ]
  },
  {
   "cell_type": "markdown",
   "metadata": {},
   "source": [
    "Question2:"
   ]
  },
  {
   "cell_type": "code",
   "execution_count": null,
   "metadata": {},
   "outputs": [],
   "source": [
    "import pandas as pd\n",
    "\n",
    "#using github repo to import dataset into google collab\n",
    "url=\"https://raw.githubusercontent.com/Muhammad-Hamza-01/21L-6292-Assignment-1/main/StudentMarkSheet.csv\"\n",
    "df = pd.read_csv(url)\n",
    "\n",
    "display(df)"
   ]
  },
  {
   "cell_type": "markdown",
   "metadata": {},
   "source": [
    "pert B:"
   ]
  },
  {
   "cell_type": "code",
   "execution_count": null,
   "metadata": {},
   "outputs": [],
   "source": [
    "import matplotlib_inline as plt\n",
    "df = pd.read_csv(url,error_bad_lines=False)\n",
    "\n",
    "row = df.shape[0]\n",
    "print(\"Number of Rows in are:\")\n",
    "print(row)\n",
    "\n",
    "null = len(df)-len(df.dropna())\n",
    "print(\"Number of rows that are null:\")\n",
    "print(null)\n",
    "print(\"Number of rows after  all the null values removed in are:\")\n",
    "\n",
    "df =df.dropna(axis=0)a\n",
    "print(len(df))"
   ]
  },
  {
   "cell_type": "markdown",
   "metadata": {},
   "source": [
    "partC:"
   ]
  },
  {
   "cell_type": "code",
   "execution_count": null,
   "metadata": {},
   "outputs": [],
   "source": [
    "name = \"James Walker\"\n",
    "filter = df.loc[df['Student name'] ==  name]\n",
    "display(filter)"
   ]
  },
  {
   "cell_type": "markdown",
   "metadata": {},
   "source": [
    "Question 3:\n",
    "Part A:"
   ]
  },
  {
   "cell_type": "code",
   "execution_count": null,
   "metadata": {},
   "outputs": [],
   "source": [
    "url=\"https://raw.githubusercontent.com/Muhammad-Hamza-01/21L-6292-Assignment-1/main/StudentMarkSheet.csv\"\n",
    "D = pd.read_csv(url)\n",
    "\n",
    "D = D.dropna(axis=0)\n",
    "\n",
    "subjects = D[\"Exam name\"].unique()\n",
    "\n",
    "\n",
    "average=[]\n",
    "\n",
    "for a in range(0,len(subjects)):\n",
    "  temp = D.loc[df[\"Exam name\"]==subjects[a]].eval(\"Marks\").sum(axis = 0)\n",
    "  average.append(temp)\n",
    "\n",
    "print(\"Subjects\")\n",
    "print(subjects)\n",
    "print(\"Average:\")\n",
    "print(average)\n"
   ]
  },
  {
   "cell_type": "markdown",
   "metadata": {},
   "source": [
    "Question Part B:"
   ]
  },
  {
   "cell_type": "code",
   "execution_count": null,
   "metadata": {},
   "outputs": [],
   "source": [
    "\n",
    "D= pd.DataFrame({\"Average\" : average },index = subjects)\n",
    "\n",
    "D.plot(kind=\"bar\")"
   ]
  },
  {
   "cell_type": "markdown",
   "metadata": {},
   "source": [
    "Question4 PartA:"
   ]
  },
  {
   "cell_type": "code",
   "execution_count": null,
   "metadata": {},
   "outputs": [],
   "source": [
    "url=\"https://raw.githubusercontent.com/Muhammad-Hamza-01/21L-6292-Assignment-1/main/CatData.csv\"\n",
    "\n",
    "Data = pd.read_csv(url)\n",
    "Data = Data.dropna(axis=0)\n",
    "display(Data)"
   ]
  },
  {
   "cell_type": "markdown",
   "metadata": {},
   "source": [
    "Part B:"
   ]
  },
  {
   "cell_type": "code",
   "execution_count": null,
   "metadata": {},
   "outputs": [],
   "source": [
    "#dependant variable : Tail length\n",
    "#independant variable : Mass"
   ]
  },
  {
   "cell_type": "markdown",
   "metadata": {},
   "source": [
    "Part C:\n"
   ]
  },
  {
   "cell_type": "code",
   "execution_count": null,
   "metadata": {},
   "outputs": [],
   "source": [
    "import pandas as pd\n",
    "\n",
    "import matplotlib.pyplot as plts\n",
    "import numpy as nup\n",
    "\n",
    "from sklearn import linear_model  \n",
    "\n",
    "url=\"https://raw.githubusercontent.com/Muhammad-Hamza-01/21L-6292-Assignment-1/main/CatData.csv\"\n",
    "Data = pd.read_csv(url)\n",
    "\n",
    "X= int(len(Data)*80/100)\n",
    "\n",
    "frtrain =  Data[:X]\n",
    "frtest = Data[X:]\n",
    "\n",
    "print(\"Total Data:\")\n",
    "print(len(Data))\n",
    "\n",
    "print(\"No of Training Data Samples:\")\n",
    "print(len(frtrain))\n",
    "\n",
    "print(\"No of Testing Data Samples:\")\n",
    "print(len(frtest))\n",
    "\n",
    "\n",
    "\n",
    "\n",
    "\n",
    "model = linear_model.LinearRegression()\n",
    "\n",
    "train_y = nup.array(Data[[\"Tail Length (cm)\"]])\n",
    "\n",
    "train_x = nup.array(Data[[\"Mass (kg)\"]])\n",
    "\n",
    "model.fit(train_x,train_y)\n",
    "\n",
    "\n",
    "\n",
    "inter = model.intercept_\n",
    "\n",
    "cof =  model.coef_\n",
    "\n",
    "\n"
   ]
  },
  {
   "cell_type": "markdown",
   "metadata": {},
   "source": [
    "Part C:"
   ]
  },
  {
   "cell_type": "code",
   "execution_count": null,
   "metadata": {},
   "outputs": [],
   "source": [
    "print(\"Slope:\",cof)\n",
    "\n",
    "\n",
    "print(\"Y-intercept:\",inter )\n"
   ]
  },
  {
   "cell_type": "markdown",
   "metadata": {},
   "source": [
    "part E:\n"
   ]
  },
  {
   "cell_type": "code",
   "execution_count": null,
   "metadata": {},
   "outputs": [],
   "source": [
    "import pandas as pd\n",
    "\n",
    "import matplotlib.pyplot as plt\n",
    "import numpy as nup\n",
    "\n",
    "from sklearn import linear_model  \n",
    "\n",
    "url=\"https://raw.githubusercontent.com/Muhammad-Hamza-01/21L-6292-Assignment-1/main/CatData.csv\"\n",
    "Data = pd.read_csv(url)\n",
    "\n",
    "X= int(len(Data)*80/100)\n",
    "\n",
    "frtrain =  Data[:X]\n",
    "frtest = Data[X:]\n",
    "model = linear_model.LinearRegression()\n",
    "\n",
    "train_y = nup.array(Data[[\"Tail Length (cm)\"]])\n",
    "\n",
    "train_x = nup.array(Data[[\"Mass (kg)\"]])\n",
    "\n",
    "model.fit(train_x,train_y)\n",
    "\n",
    "inter = model.intercept_\n",
    "\n",
    "cof =  model.coef_\n",
    "\n",
    "plt.scatter(Data[\"Mass (kg)\"],Data[\"Tail Length (cm)\"])\n",
    "plt.plot(train_x,cof[0]*train_x + inter,color=\"Red\")\n",
    "\n",
    "plt.title(\"Tail length and Mass\")\n",
    "\n",
    "plt.xlabel(\"MASS (kg)\")\n",
    "\n",
    "plt.ylabel(\"Tail Length (cm)\")\n",
    "\n",
    "plt.show()\n"
   ]
  }
 ],
 "metadata": {
  "kernelspec": {
   "display_name": "Python 3.10.7 64-bit (microsoft store)",
   "language": "python",
   "name": "python3"
  },
  "language_info": {
   "codemirror_mode": {
    "name": "ipython",
    "version": 3
   },
   "file_extension": ".py",
   "mimetype": "text/x-python",
   "name": "python",
   "nbconvert_exporter": "python",
   "pygments_lexer": "ipython3",
   "version": "3.10.7"
  },
  "orig_nbformat": 4,
  "vscode": {
   "interpreter": {
    "hash": "a97dfee85535fb1d5b47fe9558cac8ab9061198b8187c5e3fe351ac320e8c61d"
   }
  }
 },
 "nbformat": 4,
 "nbformat_minor": 2
}
